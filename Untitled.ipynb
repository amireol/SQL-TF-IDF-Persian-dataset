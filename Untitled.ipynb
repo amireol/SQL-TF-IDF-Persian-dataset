{
 "cells": [
  {
   "cell_type": "code",
   "execution_count": 232,
   "id": "3f0cbd72",
   "metadata": {},
   "outputs": [],
   "source": [
    "import pandas as pd\n",
    "import hazm\n",
    "from sklearn.feature_extraction.text import TfidfVectorizer\n",
    "from parsivar import FindStems\n",
    "from sqlalchemy import create_engine"
   ]
  },
  {
   "cell_type": "code",
   "execution_count": 205,
   "id": "df96a11c",
   "metadata": {},
   "outputs": [],
   "source": [
    "df = pd.read_excel(\"sentiments_analysis.xlsx\")"
   ]
  },
  {
   "cell_type": "code",
   "execution_count": 206,
   "id": "184fcda9",
   "metadata": {},
   "outputs": [],
   "source": [
    "df = df['text']"
   ]
  },
  {
   "cell_type": "code",
   "execution_count": 207,
   "id": "15b774f0",
   "metadata": {},
   "outputs": [
    {
     "data": {
      "text/plain": [
       "0    اما یک نکته منفی در مورد این گوشی،  عدم وجود ی...\n",
       "1    * کیت تکامل هوشمند - Smart Evolution که به صور...\n",
       "2    IOS :*محيط خشک و ايستا - مشتريان فقط استفاده ک...\n",
       "3    هر کي نخره ضرر کرده بازي هاي hd رو بدون کوچکتر...\n",
       "4    سلام\\nتلويزيون هاي پلاسما عمر کمتري نسبت به le...\n",
       "Name: text, dtype: object"
      ]
     },
     "execution_count": 207,
     "metadata": {},
     "output_type": "execute_result"
    }
   ],
   "source": [
    "df.head()"
   ]
  },
  {
   "cell_type": "code",
   "execution_count": 208,
   "id": "778e6eea",
   "metadata": {},
   "outputs": [],
   "source": [
    "persian_alp = 'ابپتثجچحخدذرزژسشصضطظعغفقکگلمنوهیءآاًهٔة '\n",
    "def check_char(txt):\n",
    "    t = ''\n",
    "    for char in txt:\n",
    "        if char in persian_alp:\n",
    "            t += char\n",
    "    return t"
   ]
  },
  {
   "cell_type": "code",
   "execution_count": 209,
   "id": "965c669b",
   "metadata": {},
   "outputs": [
    {
     "name": "stdout",
     "output_type": "stream",
     "text": [
      "با سلام،  با اينکه بنده از طرفدارهاي پر و پا قرص اچ پي چه در زمينه سرور و چه لپتاپ بودم و از تمام خريدهاي اچ پي که داشتم راضي بودم اين لپ تاپ رو يکي از بدترين محصولات اين شرکت ديدم در زمينه طراحي، اگر چه بدنه شکيل و آلمينيوميش در نگاه اول جذاب بنظر مياد اما ايرادات طراحي بد ترکپدش که هر بار کليک کردن دکمه باعث برخورد با لبه فلزي قسمت پايين ترکپد ميشه،  نبود چراغ هاي نمايش خاموش روشن،  شارژ،  وايرلس در لبه بيروني،  بطوري که اگه درب لپ تاپ بسته باشه شما عملا نميتونيد ببينيد لپ تاپ روشنه يا خاموش،  قرار دادن چراغ در بالاي درگاه شارژ که هر براي ديدن وضعيتش بايد يا خودتون خم بشيد يا لپ تاتون رو خم کنيد!\n"
     ]
    }
   ],
   "source": [
    "print(df[101])"
   ]
  },
  {
   "cell_type": "code",
   "execution_count": 210,
   "id": "de1f6c40",
   "metadata": {},
   "outputs": [],
   "source": [
    "df = df.apply(check_char)"
   ]
  },
  {
   "cell_type": "code",
   "execution_count": 211,
   "id": "49ac6c20",
   "metadata": {},
   "outputs": [],
   "source": [
    "df = df.apply(lambda x: hazm.word_tokenize(x))"
   ]
  },
  {
   "cell_type": "code",
   "execution_count": 212,
   "id": "12c491bb",
   "metadata": {},
   "outputs": [
    {
     "name": "stdout",
     "output_type": "stream",
     "text": [
      "['با', 'سلام', 'با', 'انکه', 'بنده', 'از', 'طرفدارها', 'پر', 'و', 'پا', 'قرص', 'اچ', 'پ', 'چه', 'در', 'زمنه', 'سرور', 'و', 'چه', 'لپتاپ', 'بودم', 'و', 'از', 'تمام', 'خردها', 'اچ', 'پ', 'که', 'داشتم', 'راض', 'بودم', 'ان', 'لپ', 'تاپ', 'رو', 'ک', 'از', 'بدترن', 'محصولات', 'ان', 'شرکت', 'ددم', 'در', 'زمنه', 'طراح', 'اگر', 'چه', 'بدنه', 'شکل', 'و', 'آلمنومش', 'در', 'نگاه', 'اول', 'جذاب', 'بنظر', 'ماد', 'اما', 'ارادات', 'طراح', 'بد', 'ترکپدش', 'که', 'هر', 'بار', 'کلک', 'کردن', 'دکمه', 'باعث', 'برخورد', 'با', 'لبه', 'فلز', 'قسمت', 'پان', 'ترکپد', 'مشه', 'نبود', 'چراغ', 'ها', 'نماش', 'خاموش', 'روشن', 'شارژ', 'وارلس', 'در', 'لبه', 'برون', 'بطور', 'که', 'اگه', 'درب', 'لپ', 'تاپ', 'بسته', 'باشه', 'شما', 'عملا', 'نمتوند', 'ببند', 'لپ', 'تاپ', 'روشنه', 'ا', 'خاموش', 'قرار', 'دادن', 'چراغ', 'در', 'بالا', 'درگاه', 'شارژ', 'که', 'هر', 'برا', 'ددن', 'وضعتش', 'باد', 'ا', 'خودتون', 'خم', 'بشد', 'ا', 'لپ', 'تاتون', 'رو', 'خم', 'کند']\n"
     ]
    }
   ],
   "source": [
    "print(df[101])"
   ]
  },
  {
   "cell_type": "code",
   "execution_count": 213,
   "id": "80cba2e6",
   "metadata": {},
   "outputs": [],
   "source": [
    "f = open(\"PersianStopwords.txt\", 'r', encoding='utf-8')\n",
    "stopwords = [x[:-1] for x in f.readlines()]"
   ]
  },
  {
   "cell_type": "code",
   "execution_count": 214,
   "id": "ffe40706",
   "metadata": {},
   "outputs": [
    {
     "data": {
      "text/plain": [
       "1370"
      ]
     },
     "execution_count": 214,
     "metadata": {},
     "output_type": "execute_result"
    }
   ],
   "source": [
    "len(stopwords)"
   ]
  },
  {
   "cell_type": "code",
   "execution_count": 215,
   "id": "495fd211",
   "metadata": {},
   "outputs": [],
   "source": [
    "def del_sw(words):\n",
    "    li = []\n",
    "    for word in words:\n",
    "        if word not in stopwords:\n",
    "            li.append(word)\n",
    "    return li"
   ]
  },
  {
   "cell_type": "code",
   "execution_count": 216,
   "id": "0bc8b74b",
   "metadata": {},
   "outputs": [],
   "source": [
    "df = df.apply(del_sw)"
   ]
  },
  {
   "cell_type": "code",
   "execution_count": 217,
   "id": "3949a0b9",
   "metadata": {},
   "outputs": [
    {
     "name": "stdout",
     "output_type": "stream",
     "text": [
      "['سلام', 'بنده', 'طرفدارها', 'پر', 'پا', 'قرص', 'اچ', 'زمنه', 'سرور', 'لپتاپ', 'خردها', 'اچ', 'راض', 'لپ', 'تاپ', 'بدترن', 'محصولات', 'شرکت', 'ددم', 'زمنه', 'طراح', 'بدنه', 'شکل', 'آلمنومش', 'جذاب', 'بنظر', 'ماد', 'ارادات', 'طراح', 'ترکپدش', 'کلک', 'دکمه', 'باعث', 'برخورد', 'لبه', 'فلز', 'قسمت', 'پان', 'ترکپد', 'مشه', 'چراغ', 'نماش', 'خاموش', 'روشن', 'شارژ', 'وارلس', 'لبه', 'برون', 'درب', 'لپ', 'تاپ', 'بسته', 'باشه', 'نمتوند', 'ببند', 'لپ', 'تاپ', 'روشنه', 'خاموش', 'قرار', 'چراغ', 'درگاه', 'شارژ', 'ددن', 'وضعتش', 'خودتون', 'خم', 'بشد', 'لپ', 'تاتون', 'خم']\n"
     ]
    }
   ],
   "source": [
    "print(df[101])"
   ]
  },
  {
   "cell_type": "code",
   "execution_count": 218,
   "id": "021b91b6",
   "metadata": {},
   "outputs": [],
   "source": [
    "my_stemmer = FindStems()"
   ]
  },
  {
   "cell_type": "code",
   "execution_count": 219,
   "id": "157475a7",
   "metadata": {},
   "outputs": [],
   "source": [
    "def stem_words(words):\n",
    "    global my_stemmer\n",
    "    li = []\n",
    "    for word in words:\n",
    "        li.append(my_stemmer.convert_to_stem(word))\n",
    "    return li "
   ]
  },
  {
   "cell_type": "code",
   "execution_count": 220,
   "id": "148839cb",
   "metadata": {},
   "outputs": [],
   "source": [
    "df = df.apply(stem_words)"
   ]
  },
  {
   "cell_type": "code",
   "execution_count": 221,
   "id": "bff29e7e",
   "metadata": {},
   "outputs": [
    {
     "name": "stdout",
     "output_type": "stream",
     "text": [
      "['سلام', 'بنده', 'طرفدار', 'پر', 'پا', 'قرص', 'اچ', 'زمنه', 'سرور', 'لپتاپ', 'خرد', 'اچ', 'راض', 'لپ', 'تاپ', 'بدترن', 'محصولات', 'شرکت', 'دد', 'زمنه', 'طراح', 'بدنه', 'شکل', 'آلمنومش', 'جذاب', 'بنظر', 'ماد', 'ارادات', 'طراح', 'ترکپدش', 'کلک', 'دکمه', 'باعث', 'برخورد', 'لبه', 'فلز', 'قسمت', 'پان', 'ترکپد', 'مشه', 'چراغ', 'نما', 'خاموش', 'روشن', 'شارژ', 'وارلس', 'لبه', 'برون', 'درب', 'لپ', 'تاپ', 'بسته', 'باشه', 'نمتوند', 'ببند', 'لپ', 'تاپ', 'روشنه', 'خاموش', 'قرار', 'چراغ', 'درگاه', 'شارژ', 'ددن', 'وضعتش', 'خودتون', 'خم', 'بشد', 'لپ', 'تاتون', 'خم']\n"
     ]
    }
   ],
   "source": [
    "print(df[101])"
   ]
  },
  {
   "cell_type": "code",
   "execution_count": 222,
   "id": "d1722f30",
   "metadata": {},
   "outputs": [],
   "source": [
    "df = df.apply(lambda x: \" \".join(x))"
   ]
  },
  {
   "cell_type": "code",
   "execution_count": 223,
   "id": "4c6a6908",
   "metadata": {},
   "outputs": [
    {
     "name": "stdout",
     "output_type": "stream",
     "text": [
      "سلام بنده طرفدار پر پا قرص اچ زمنه سرور لپتاپ خرد اچ راض لپ تاپ بدترن محصولات شرکت دد زمنه طراح بدنه شکل آلمنومش جذاب بنظر ماد ارادات طراح ترکپدش کلک دکمه باعث برخورد لبه فلز قسمت پان ترکپد مشه چراغ نما خاموش روشن شارژ وارلس لبه برون درب لپ تاپ بسته باشه نمتوند ببند لپ تاپ روشنه خاموش قرار چراغ درگاه شارژ ددن وضعتش خودتون خم بشد لپ تاتون خم\n"
     ]
    }
   ],
   "source": [
    "print(df[101])"
   ]
  },
  {
   "cell_type": "code",
   "execution_count": 224,
   "id": "79adacee",
   "metadata": {},
   "outputs": [],
   "source": [
    "vector = TfidfVectorizer()\n",
    "matrix = vector.fit_transform(df).todense()"
   ]
  },
  {
   "cell_type": "code",
   "execution_count": 227,
   "id": "bac3e741",
   "metadata": {},
   "outputs": [
    {
     "name": "stderr",
     "output_type": "stream",
     "text": [
      "C:\\Users\\amirhussein\\AppData\\Local\\Programs\\Python\\Python39\\lib\\site-packages\\sklearn\\utils\\deprecation.py:87: FutureWarning: Function get_feature_names is deprecated; get_feature_names is deprecated in 1.0 and will be removed in 1.2. Please use get_feature_names_out instead.\n",
      "  warnings.warn(msg, category=FutureWarning)\n"
     ]
    }
   ],
   "source": [
    "matrix = pd.DataFrame(matrix, columns=vector.get_feature_names_out())"
   ]
  },
  {
   "cell_type": "code",
   "execution_count": 229,
   "id": "0ed2c317",
   "metadata": {},
   "outputs": [
    {
     "data": {
      "text/html": [
       "<div>\n",
       "<style scoped>\n",
       "    .dataframe tbody tr th:only-of-type {\n",
       "        vertical-align: middle;\n",
       "    }\n",
       "\n",
       "    .dataframe tbody tr th {\n",
       "        vertical-align: top;\n",
       "    }\n",
       "\n",
       "    .dataframe thead th {\n",
       "        text-align: right;\n",
       "    }\n",
       "</style>\n",
       "<table border=\"1\" class=\"dataframe\">\n",
       "  <thead>\n",
       "    <tr style=\"text-align: right;\">\n",
       "      <th></th>\n",
       "      <th>آا</th>\n",
       "      <th>آب</th>\n",
       "      <th>آبرنگ</th>\n",
       "      <th>آبشو</th>\n",
       "      <th>آخر</th>\n",
       "      <th>آخرن</th>\n",
       "      <th>آخرین</th>\n",
       "      <th>آدم</th>\n",
       "      <th>آرامش</th>\n",
       "      <th>آرایش</th>\n",
       "      <th>...</th>\n",
       "      <th>گیگابایتی</th>\n",
       "      <th>گیگاهرتز</th>\n",
       "      <th>گیگاهرتزی</th>\n",
       "      <th>یاب</th>\n",
       "      <th>یاد</th>\n",
       "      <th>یافت</th>\n",
       "      <th>یافته_است</th>\n",
       "      <th>ید</th>\n",
       "      <th>یونی</th>\n",
       "      <th>یکپارچه</th>\n",
       "    </tr>\n",
       "  </thead>\n",
       "  <tbody>\n",
       "    <tr>\n",
       "      <th>0</th>\n",
       "      <td>0.0</td>\n",
       "      <td>0.000000</td>\n",
       "      <td>0.0</td>\n",
       "      <td>0.0</td>\n",
       "      <td>0.0</td>\n",
       "      <td>0.0</td>\n",
       "      <td>0.0</td>\n",
       "      <td>0.0</td>\n",
       "      <td>0.0</td>\n",
       "      <td>0.0</td>\n",
       "      <td>...</td>\n",
       "      <td>0.0</td>\n",
       "      <td>0.0</td>\n",
       "      <td>0.0</td>\n",
       "      <td>0.0</td>\n",
       "      <td>0.0</td>\n",
       "      <td>0.0</td>\n",
       "      <td>0.0</td>\n",
       "      <td>0.0</td>\n",
       "      <td>0.0</td>\n",
       "      <td>0.0</td>\n",
       "    </tr>\n",
       "    <tr>\n",
       "      <th>1</th>\n",
       "      <td>0.0</td>\n",
       "      <td>0.000000</td>\n",
       "      <td>0.0</td>\n",
       "      <td>0.0</td>\n",
       "      <td>0.0</td>\n",
       "      <td>0.0</td>\n",
       "      <td>0.0</td>\n",
       "      <td>0.0</td>\n",
       "      <td>0.0</td>\n",
       "      <td>0.0</td>\n",
       "      <td>...</td>\n",
       "      <td>0.0</td>\n",
       "      <td>0.0</td>\n",
       "      <td>0.0</td>\n",
       "      <td>0.0</td>\n",
       "      <td>0.0</td>\n",
       "      <td>0.0</td>\n",
       "      <td>0.0</td>\n",
       "      <td>0.0</td>\n",
       "      <td>0.0</td>\n",
       "      <td>0.0</td>\n",
       "    </tr>\n",
       "    <tr>\n",
       "      <th>2</th>\n",
       "      <td>0.0</td>\n",
       "      <td>0.000000</td>\n",
       "      <td>0.0</td>\n",
       "      <td>0.0</td>\n",
       "      <td>0.0</td>\n",
       "      <td>0.0</td>\n",
       "      <td>0.0</td>\n",
       "      <td>0.0</td>\n",
       "      <td>0.0</td>\n",
       "      <td>0.0</td>\n",
       "      <td>...</td>\n",
       "      <td>0.0</td>\n",
       "      <td>0.0</td>\n",
       "      <td>0.0</td>\n",
       "      <td>0.0</td>\n",
       "      <td>0.0</td>\n",
       "      <td>0.0</td>\n",
       "      <td>0.0</td>\n",
       "      <td>0.0</td>\n",
       "      <td>0.0</td>\n",
       "      <td>0.0</td>\n",
       "    </tr>\n",
       "    <tr>\n",
       "      <th>3</th>\n",
       "      <td>0.0</td>\n",
       "      <td>0.000000</td>\n",
       "      <td>0.0</td>\n",
       "      <td>0.0</td>\n",
       "      <td>0.0</td>\n",
       "      <td>0.0</td>\n",
       "      <td>0.0</td>\n",
       "      <td>0.0</td>\n",
       "      <td>0.0</td>\n",
       "      <td>0.0</td>\n",
       "      <td>...</td>\n",
       "      <td>0.0</td>\n",
       "      <td>0.0</td>\n",
       "      <td>0.0</td>\n",
       "      <td>0.0</td>\n",
       "      <td>0.0</td>\n",
       "      <td>0.0</td>\n",
       "      <td>0.0</td>\n",
       "      <td>0.0</td>\n",
       "      <td>0.0</td>\n",
       "      <td>0.0</td>\n",
       "    </tr>\n",
       "    <tr>\n",
       "      <th>4</th>\n",
       "      <td>0.0</td>\n",
       "      <td>0.167103</td>\n",
       "      <td>0.0</td>\n",
       "      <td>0.0</td>\n",
       "      <td>0.0</td>\n",
       "      <td>0.0</td>\n",
       "      <td>0.0</td>\n",
       "      <td>0.0</td>\n",
       "      <td>0.0</td>\n",
       "      <td>0.0</td>\n",
       "      <td>...</td>\n",
       "      <td>0.0</td>\n",
       "      <td>0.0</td>\n",
       "      <td>0.0</td>\n",
       "      <td>0.0</td>\n",
       "      <td>0.0</td>\n",
       "      <td>0.0</td>\n",
       "      <td>0.0</td>\n",
       "      <td>0.0</td>\n",
       "      <td>0.0</td>\n",
       "      <td>0.0</td>\n",
       "    </tr>\n",
       "  </tbody>\n",
       "</table>\n",
       "<p>5 rows × 2680 columns</p>\n",
       "</div>"
      ],
      "text/plain": [
       "    آا        آب  آبرنگ  آبشو  آخر  آخرن  آخرین  آدم  آرامش  آرایش  ...  \\\n",
       "0  0.0  0.000000    0.0   0.0  0.0   0.0    0.0  0.0    0.0    0.0  ...   \n",
       "1  0.0  0.000000    0.0   0.0  0.0   0.0    0.0  0.0    0.0    0.0  ...   \n",
       "2  0.0  0.000000    0.0   0.0  0.0   0.0    0.0  0.0    0.0    0.0  ...   \n",
       "3  0.0  0.000000    0.0   0.0  0.0   0.0    0.0  0.0    0.0    0.0  ...   \n",
       "4  0.0  0.167103    0.0   0.0  0.0   0.0    0.0  0.0    0.0    0.0  ...   \n",
       "\n",
       "   گیگابایتی  گیگاهرتز  گیگاهرتزی  یاب  یاد  یافت  یافته_است   ید  یونی  \\\n",
       "0        0.0       0.0        0.0  0.0  0.0   0.0        0.0  0.0   0.0   \n",
       "1        0.0       0.0        0.0  0.0  0.0   0.0        0.0  0.0   0.0   \n",
       "2        0.0       0.0        0.0  0.0  0.0   0.0        0.0  0.0   0.0   \n",
       "3        0.0       0.0        0.0  0.0  0.0   0.0        0.0  0.0   0.0   \n",
       "4        0.0       0.0        0.0  0.0  0.0   0.0        0.0  0.0   0.0   \n",
       "\n",
       "   یکپارچه  \n",
       "0      0.0  \n",
       "1      0.0  \n",
       "2      0.0  \n",
       "3      0.0  \n",
       "4      0.0  \n",
       "\n",
       "[5 rows x 2680 columns]"
      ]
     },
     "execution_count": 229,
     "metadata": {},
     "output_type": "execute_result"
    }
   ],
   "source": [
    "matrix.head()"
   ]
  },
  {
   "cell_type": "code",
   "execution_count": 258,
   "id": "222675ad",
   "metadata": {},
   "outputs": [],
   "source": [
    "db_uri = 'sqlite:///file.db?charset=utf8'\n",
    "engine = create_engine(db_uri, echo=False)\n",
    "sample_sql_database = matrix.iloc[:,:50].to_sql('database', con=engine)"
   ]
  },
  {
   "cell_type": "code",
   "execution_count": 230,
   "id": "cbaefc61",
   "metadata": {},
   "outputs": [],
   "source": [
    "top_words = matrix.sum(axis=0).sort_values(ascending=False)"
   ]
  },
  {
   "cell_type": "code",
   "execution_count": 231,
   "id": "bb0b50c1",
   "metadata": {},
   "outputs": [
    {
     "data": {
      "text/plain": [
       "گوش        26.669999\n",
       "خل         22.005563\n",
       "نظر        18.341651\n",
       "دوربین     17.297015\n",
       "تبلت       17.217998\n",
       "             ...    \n",
       "ات          0.088087\n",
       "مقسه        0.088087\n",
       "بخوندش      0.088087\n",
       "بندازد      0.088087\n",
       "فرستادن     0.088087\n",
       "Length: 2680, dtype: float64"
      ]
     },
     "execution_count": 231,
     "metadata": {},
     "output_type": "execute_result"
    }
   ],
   "source": [
    "top_words"
   ]
  },
  {
   "cell_type": "markdown",
   "id": "6a310fd2",
   "metadata": {},
   "source": [
    "## -------------------ReadingData-------------------------"
   ]
  },
  {
   "cell_type": "code",
   "execution_count": 239,
   "id": "7942c558",
   "metadata": {},
   "outputs": [],
   "source": [
    "first = matrix.sum(axis=0).sort_values()[-1]\n",
    "last  = matrix.sum(axis=0).sort_values()[0]"
   ]
  },
  {
   "cell_type": "code",
   "execution_count": 262,
   "id": "c009ee38",
   "metadata": {},
   "outputs": [],
   "source": [
    "db_uri = 'sqlite:///file.db'\n",
    "engine = create_engine(db_uri, echo=False)"
   ]
  },
  {
   "cell_type": "code",
   "execution_count": 263,
   "id": "98b4fffa",
   "metadata": {},
   "outputs": [],
   "source": [
    "reader = pd.read_sql(\"SELECT * FROM database\", con=engine)"
   ]
  },
  {
   "cell_type": "code",
   "execution_count": 275,
   "id": "ad8b28b5",
   "metadata": {},
   "outputs": [],
   "source": [
    "def UserInput():    \n",
    "    inp = input(\"Enter your word: \")\n",
    "    try:\n",
    "        x = sum(matrix[inp])\n",
    "        print((x-first)/(last-first))\n",
    "    except:\n",
    "        print(\"Not Found\")"
   ]
  },
  {
   "cell_type": "code",
   "execution_count": 279,
   "id": "c94e58a9",
   "metadata": {},
   "outputs": [
    {
     "name": "stdout",
     "output_type": "stream",
     "text": [
      "Enter your word: آرایش\n",
      "0.9925049117776055\n"
     ]
    }
   ],
   "source": [
    "UserInput()"
   ]
  },
  {
   "cell_type": "code",
   "execution_count": null,
   "id": "ea23abab",
   "metadata": {},
   "outputs": [],
   "source": []
  }
 ],
 "metadata": {
  "kernelspec": {
   "display_name": "Python 3 (ipykernel)",
   "language": "python",
   "name": "python3"
  },
  "language_info": {
   "codemirror_mode": {
    "name": "ipython",
    "version": 3
   },
   "file_extension": ".py",
   "mimetype": "text/x-python",
   "name": "python",
   "nbconvert_exporter": "python",
   "pygments_lexer": "ipython3",
   "version": "3.9.13"
  }
 },
 "nbformat": 4,
 "nbformat_minor": 5
}
